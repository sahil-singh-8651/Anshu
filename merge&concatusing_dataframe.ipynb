{
  "nbformat": 4,
  "nbformat_minor": 0,
  "metadata": {
    "colab": {
      "provenance": [],
      "authorship_tag": "ABX9TyNBCo+OlxR2zmftkoFyUf/P",
      "include_colab_link": true
    },
    "kernelspec": {
      "name": "python3",
      "display_name": "Python 3"
    },
    "language_info": {
      "name": "python"
    }
  },
  "cells": [
    {
      "cell_type": "markdown",
      "metadata": {
        "id": "view-in-github",
        "colab_type": "text"
      },
      "source": [
        "<a href=\"https://colab.research.google.com/github/sahil-singh-8651/Anshu/blob/main/merge%26concatusing_dataframe.ipynb\" target=\"_parent\"><img src=\"https://colab.research.google.com/assets/colab-badge.svg\" alt=\"Open In Colab\"/></a>"
      ]
    },
    {
      "cell_type": "code",
      "execution_count": 1,
      "metadata": {
        "colab": {
          "base_uri": "https://localhost:8080/"
        },
        "id": "7btwLaj6JNiG",
        "outputId": "661cf715-0b61-4678-d131-ee5930599ad3"
      },
      "outputs": [
        {
          "output_type": "stream",
          "name": "stdout",
          "text": [
            "Merged DataFrame (inner join):\n",
            "   id   name_x  age   name_y  salary\n",
            "0   3  Charlie   35  Charlie   70000\n",
            "1   4    David   40    David   80000\n",
            "\n",
            "Merged DataFrame (left join):\n",
            "   id   name_x  age   name_y   salary\n",
            "0   1    Alice   25      NaN      NaN\n",
            "1   2      Bob   30      NaN      NaN\n",
            "2   3  Charlie   35  Charlie  70000.0\n",
            "3   4    David   40    David  80000.0\n",
            "\n",
            "Concatenated DataFrame (row-wise):\n",
            "   id     name   age    salary\n",
            "0   1    Alice  25.0       NaN\n",
            "1   2      Bob  30.0       NaN\n",
            "2   3  Charlie  35.0       NaN\n",
            "3   4    David  40.0       NaN\n",
            "4   3  Charlie   NaN   70000.0\n",
            "5   4    David   NaN   80000.0\n",
            "6   5   Edward   NaN   90000.0\n",
            "7   6    Fiona   NaN  100000.0\n",
            "\n",
            "Concatenated DataFrame (column-wise):\n",
            "   id     name  age  salary department\n",
            "0   1    Alice   25   50000         HR\n",
            "1   2      Bob   30   60000         IT\n",
            "2   3  Charlie   35   70000    Finance\n",
            "3   4    David   40   80000  Marketing\n"
          ]
        }
      ],
      "source": [
        "import pandas as pd\n",
        "\n",
        "# Sample data for df1\n",
        "data1 = {\n",
        "    'id': [1, 2, 3, 4],\n",
        "    'name': ['Alice', 'Bob', 'Charlie', 'David'],\n",
        "    'age': [25, 30, 35, 40]\n",
        "}\n",
        "\n",
        "# Sample data for df2\n",
        "data2 = {\n",
        "    'id': [3, 4, 5, 6],\n",
        "    'name': ['Charlie', 'David', 'Edward', 'Fiona'],\n",
        "    'salary': [70000, 80000, 90000, 100000]\n",
        "}\n",
        "\n",
        "df1 = pd.DataFrame(data1)\n",
        "df2 = pd.DataFrame(data2)\n",
        "\n",
        "# Merging datasets on 'id'\n",
        "merged_df = pd.merge(df1, df2, on='id', how='inner')\n",
        "print(\"Merged DataFrame (inner join):\")\n",
        "print(merged_df)\n",
        "\n",
        "# Different types of joins: left join\n",
        "left_merged_df = pd.merge(df1, df2, on='id', how='left')\n",
        "print(\"\\nMerged DataFrame (left join):\")\n",
        "print(left_merged_df)\n",
        "\n",
        "# Row-wise concatenation\n",
        "concat_df = pd.concat([df1, df2], ignore_index=True, sort=False)\n",
        "print(\"\\nConcatenated DataFrame (row-wise):\")\n",
        "print(concat_df)\n",
        "\n",
        "# Sample data for df3 for column-wise concatenation\n",
        "data3 = {\n",
        "    'salary': [50000, 60000, 70000, 80000],\n",
        "    'department': ['HR', 'IT', 'Finance', 'Marketing']\n",
        "}\n",
        "\n",
        "df3 = pd.DataFrame(data3)\n",
        "\n",
        "# Column-wise concatenation\n",
        "concat_col_df = pd.concat([df1, df3], axis=1)\n",
        "print(\"\\nConcatenated DataFrame (column-wise):\")\n",
        "print(concat_col_df)\n"
      ]
    }
  ]
}